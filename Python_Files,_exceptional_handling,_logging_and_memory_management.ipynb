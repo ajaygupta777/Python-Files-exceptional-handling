{
  "nbformat": 4,
  "nbformat_minor": 0,
  "metadata": {
    "colab": {
      "provenance": [],
      "authorship_tag": "ABX9TyNQT002mYuSs54M+NYUHQKW",
      "include_colab_link": true
    },
    "kernelspec": {
      "name": "python3",
      "display_name": "Python 3"
    },
    "language_info": {
      "name": "python"
    }
  },
  "cells": [
    {
      "cell_type": "markdown",
      "metadata": {
        "id": "view-in-github",
        "colab_type": "text"
      },
      "source": [
        "<a href=\"https://colab.research.google.com/github/ajaygupta777/Python-Files-exceptional-handling/blob/main/Python_Files%2C_exceptional_handling%2C_logging_and_memory_management.ipynb\" target=\"_parent\"><img src=\"https://colab.research.google.com/assets/colab-badge.svg\" alt=\"Open In Colab\"/></a>"
      ]
    },
    {
      "cell_type": "markdown",
      "source": [
        "Name : Ajay Kumar Gupta"
      ],
      "metadata": {
        "id": "JzswyuQRiM4H"
      }
    },
    {
      "cell_type": "markdown",
      "source": [
        "Assignment 5: Python Files, exceptional handling, logging and\n",
        "memory management"
      ],
      "metadata": {
        "id": "hrmN43IWiRfM"
      }
    },
    {
      "cell_type": "markdown",
      "source": [
        "Theory Questions"
      ],
      "metadata": {
        "id": "iSIiq98ijQca"
      }
    },
    {
      "cell_type": "markdown",
      "source": [
        " 1. What is the difference between interpreted and compiled languages?\n",
        " - Interpreted Languages\n",
        "\n",
        "- Execution: Code is executed line by line by an interpreter.\n",
        "- Process: The interpreter reads each line of code, translates it into machine code, and then executes it immediately.\n",
        "- Examples: Python, JavaScript, Ruby, PHP.\n",
        "- Interpreted: Run line by line, slower, easier to debug.\n",
        "\n",
        "- Compiled Languages\n",
        "\n",
        "- Execution: Code is translated into machine code before execution by a compiler.\n",
        "- Process: The compiler takes the entire source code and converts it into an executable file containing machine code.\n",
        "- Examples: C, C++, Java, Go.\n",
        "- Compiled: Translated to machine code, faster, harder to debug."
      ],
      "metadata": {
        "id": "26uVj9SdjfcA"
      }
    },
    {
      "cell_type": "markdown",
      "source": [
        "2. What is exception handling in Python?\n",
        "- Exception Handling\n",
        "\n",
        "Exception handling is a mechanism in Python (and other programming languages) to gracefully handle errors and unexpected situations that might occur during program execution. It allows you to anticipate and manage these errors, preventing your program from crashing and providing alternative actions or informative messages to the user."
      ],
      "metadata": {
        "id": "4ocbCUjZWj20"
      }
    },
    {
      "source": [
        "try:\n",
        "    # Code that might raise an exception\n",
        "except ExceptionType:\n",
        "    # Code to handle the exception\n",
        "else:\n",
        "    # Code to execute if no exception occurred\n",
        "finally:\n",
        "    # Code that always executes, regardless of exceptions"
      ],
      "cell_type": "code",
      "metadata": {
        "id": "1ELC5LMaaSQk"
      },
      "execution_count": null,
      "outputs": []
    },
    {
      "cell_type": "markdown",
      "source": [
        "3.  What is the purpose of the finally block in exception handling?\n",
        "- The finally block in exception handling is used to define a section of code that will always be executed, regardless of whether an exception is raised or not.\n",
        "\n",
        "- Purpose:\n",
        "\n",
        "- Cleanup actions: The primary purpose of the finally block is to perform cleanup actions, such as closing files, releasing resources, or resetting variables. These actions need to be performed regardless of whether the code in the try block executed successfully or raised an exception.\n",
        "\n",
        "- Guaranteed execution: The finally block ensures that certain crucial code is always executed, providing a way to guarantee that resources are released or state is restored, even if an error occurs."
      ],
      "metadata": {
        "id": "1dgXUFd3WmKc"
      }
    },
    {
      "cell_type": "markdown",
      "source": [
        "4. What is logging in Python?\n",
        "- Logging is a way to record events or messages that happen while your Python program is running. It helps you track what's going on and troubleshoot issues. You can log messages with different levels of importance, like INFO, WARNING, or ERROR.\n",
        "\n",
        "- In short: Logging helps you keep track of your program's activities for debugging and monitoring.\n",
        "\n",
        "- Benefits of using logging:\n",
        "\n",
        "- Flexibility: You can easily change the logging level, format, and output destination without modifying your code.\n",
        "- Control: You can control which events are logged and how they are formatted.\n",
        "- Persistence: Logs can be stored for later analysis and auditing.\n",
        "- Integration: The logging module can be integrated with other libraries and frameworks to provide a comprehensive logging solution."
      ],
      "metadata": {
        "id": "teXT3bYkYFwd"
      }
    },
    {
      "cell_type": "markdown",
      "source": [
        "5. What is the significance of the __del__ method in Python?\n",
        "- In Python, the __del__ method is a special method, also known as a destructor. It is called when an object is about to be destroyed or garbage collected. It is primarily used for cleanup activities, such as releasing resources held by the object, closing files, or disconnecting from databases.\n",
        "\n",
        "- In short: It helps clean up before an object is removed from memory.\n",
        "\n",
        "- Significance:\n",
        "\n",
        "- Resource Management: The __del__ method allows you to ensure that resources held by an object are released properly when the object is no longer needed, preventing resource leaks and potential program crashes.\n",
        "- Cleanup Actions: It provides a mechanism for performing necessary cleanup tasks, such as closing files or disconnecting from external systems, before an object is destroyed.\n",
        "- Object Lifecycle Management: It allows you to define actions that should be taken at the end of an object's lifecycle, providing control over object behavior during garbage collection."
      ],
      "metadata": {
        "id": "4VLZsxqNYIIw"
      }
    },
    {
      "cell_type": "markdown",
      "source": [
        "6. What is the difference between import and from ... import in Python?\n",
        "- Both statements are used to import modules or specific attributes from modules in Python. However, they differ in how they make those modules or attributes available in your current scope.\n",
        "\n",
        "- import statement\n",
        "\n",
        "- Imports the entire module.\n",
        "- To access attributes within the module, you need to use the module name followed by a dot (.).\n",
        "\n",
        "- from ... import statement\n",
        "\n",
        "- Imports specific attributes (like functions, classes, or variables) from a module.\n",
        "- The imported attributes can be used directly without the module name prefix.\n"
      ],
      "metadata": {
        "id": "XZ0OxjYqYUnt"
      }
    },
    {
      "cell_type": "markdown",
      "source": [
        "7. How can you handle multiple exceptions in Python?\n",
        "- You can handle multiple exceptions in Python using these methods:\n",
        "\n",
        "- Single except with multiple types: except (TypeError, ValueError):\n",
        "- Multiple except blocks: Separate except for each type.\n",
        "- Generic except: except: to catch any unhandled exception.\n",
        "- In short: Use tuples in a single except, or separate except blocks for different error types."
      ],
      "metadata": {
        "id": "UKzc9jUlYfae"
      }
    },
    {
      "cell_type": "markdown",
      "source": [
        "8. What is the purpose of the with statement when handling files in Python?\n",
        "- Purpose of the with statement when handling files in Python:\n",
        "\n",
        "- The with statement in Python is used to provide a way to ensure that a resource, like a file, is properly managed and automatically cleaned up when it's no longer needed. When used with files, it ensures that the file is automatically closed after its operations are completed, even if exceptions occur. This helps prevent resource leaks and potential data corruption.\n",
        "\n",
        "- In short: It provides a way to ensure files are properly closed, preventing resource leaks and data corruption. It makes file handling safer and more concise."
      ],
      "metadata": {
        "id": "GfSW2_oYYpka"
      }
    },
    {
      "cell_type": "markdown",
      "source": [
        "9. What is the difference between multithreading and multiprocessing?\n",
        "- Both multithreading and multiprocessing are ways to achieve concurrency in Python, allowing you to perform multiple tasks seemingly at the same time. However, they differ in how they utilize system resources and the types of tasks they are best suited for.\n",
        "\n",
        "- Multithreading\n",
        "\n",
        "- Mechanism: Multithreading involves creating multiple threads within a single process. Threads share the same memory space and resources of the process.\n",
        "- Global Interpreter Lock (GIL): In Python, the GIL limits the execution of threads to one at a time within a process, even on multi-core systems. This can impact performance for CPU-bound tasks.\n",
        "- Use Cases: Multithreading is generally suitable for I/O-bound tasks, where the program spends a lot of time waiting for external resources (e.g., network requests, disk operations). Threads can utilize waiting time to perform other tasks.\n",
        "\n",
        "- Multiprocessing\n",
        "\n",
        "- Mechanism: Multiprocessing involves creating multiple processes, each with its own memory space and resources. Processes run independently and can utilize multiple cores simultaneously.\n",
        "- GIL Limitation: Multiprocessing is not affected by the GIL, making it more efficient for CPU-bound tasks that require significant processing power.\n",
        "- Use Cases: Multiprocessing is preferred for CPU-bound tasks, where the program performs intensive computations and can benefit from parallel execution on multiple cores.\n",
        "\n",
        "- In short:\n",
        "\n",
        "- Multithreading: Runs multiple threads within a single process, sharing memory. Good for I/O-bound tasks.\n",
        "- Multiprocessing: Runs multiple processes, each with its own memory. Good for CPU-bound tasks."
      ],
      "metadata": {
        "id": "N1zCiTaGZfqW"
      }
    },
    {
      "cell_type": "markdown",
      "source": [
        "10. What are the advantages of using logging in a program?\n",
        "- Logging helps:\n",
        "\n",
        "- Track program activity: Understand what's happening during execution.\n",
        "- Debug issues: Identify and fix errors more easily.\n",
        "- Monitor performance: Analyze how your program is performing.\n",
        "- Improve security: Detect and respond to security threats.\n",
        "\n",
        "- In short: Logging provides valuable insights into your program's behavior for debugging, monitoring, and security.\n",
        "\n",
        "- Overall Advantages:\n",
        "\n",
        "- Flexibility: You can easily change the logging level, format, and output destination without modifying your code.\n",
        "- Control: You can control which events are logged and how they are formatted.\n",
        "- Persistence: Logs can be stored for later analysis and auditing.\n",
        "- Integration: The logging module can be integrated with other libraries and frameworks to provide a comprehensive logging solution."
      ],
      "metadata": {
        "id": "iTHs-ilWZ_G3"
      }
    },
    {
      "cell_type": "markdown",
      "source": [
        "11. What is memory management in Python?\n",
        "- Memory Management\n",
        "\n",
        "In Python, memory management is the process of allocating and deallocating memory for objects. Python uses a system called automatic garbage collection to manage memory. This means that the Python interpreter automatically reclaims memory that is no longer being used by the program. This frees the programmer from having to manually manage memory, reducing the risk of memory leaks and improving code reliability.\n",
        "\n",
        "- Key aspects of Python memory management:\n",
        "\n",
        "- Private Heap: Stores Python objects and data structures.\n",
        "- Memory Manager: Allocates and deallocates memory using reference counting and garbage collection.\n",
        "- Reference Counting: Tracks the number of references to an object.\n",
        "- Garbage Collection: Reclaims memory from unreachable objects.\n",
        "- Dynamic Allocation: Allocates memory as needed.\n",
        "- Memory Reuse: Reuses deallocated memory."
      ],
      "metadata": {
        "id": "kbpRMC2laIDQ"
      }
    },
    {
      "cell_type": "markdown",
      "source": [
        "12. What are the basic steps involved in exception handling in Python?\n",
        "- Basic steps in Python exception handling:\n",
        "\n",
        "- try: Enclose code that might raise an exception.\n",
        "- except: Handle specific exceptions with code to execute if an error occurs.\n",
        "- else: (Optional) Execute code if no exception occurred in the try block.\n",
        "- finally: (Optional) Execute code that always runs, regardless of exceptions.\n",
        "\n",
        "- Reasoning:\n",
        "\n",
        "- This structure allows you to anticipate and handle potential errors without letting them crash your program.\n",
        "- By using try, except, else, and finally, you create a robust and controlled execution flow.\n",
        "- You can handle different exception types with separate except blocks or a single except block with multiple exception types in a tuple."
      ],
      "metadata": {
        "id": "8KLs8A7tacEx"
      }
    },
    {
      "cell_type": "markdown",
      "source": [
        "13. Why is memory management important in Python?\n",
        "- Memory management is vital in Python for building efficient, stable, and performant applications. By understanding how memory is allocated and deallocated, you can write code that uses resources responsibly and avoids potential problems.\n",
        "\n",
        "- Memory management in Python is important for:\n",
        "\n",
        "- Efficiency: Using resources wisely and preventing slowdowns.\n",
        "- Preventing memory leaks: Avoiding program crashes and performance issues.\n",
        "- Stability: Ensuring your program runs smoothly without memory errors."
      ],
      "metadata": {
        "id": "bdqN3vbKapxm"
      }
    },
    {
      "cell_type": "markdown",
      "source": [
        "14. What is the role of try and except in exception handling?\n",
        "- Try and except are the core components of exception handling in Python. They work together to gracefully manage errors that might occur during program execution.\n",
        "\n",
        "- try block:\n",
        "\n",
        "- The try block contains the code that might raise an exception. It's essentially saying, \"Attempt to execute this code, but be prepared for potential errors.\"\n",
        "- If an exception occurs within the try block, the program flow immediately jumps to the corresponding except block.\n",
        "\n",
        "- except block:\n",
        "\n",
        "- The except block is where you define how to handle a specific type of exception. It's like saying, \"If this particular error happens, here's what to do.\"\n",
        "- You can have multiple except blocks to handle different types of exceptions.\n",
        "- If an exception of the specified type is raised in the try block, the code within the corresponding except block is executed.\n",
        "\n",
        "- In short:\n",
        "\n",
        "- try: Encloses code that might raise an exception.\n",
        "- except: Handles the exception and prevents the program from crashing."
      ],
      "metadata": {
        "id": "bC-mshjIa4ey"
      }
    },
    {
      "cell_type": "markdown",
      "source": [
        "15. How does Python's garbage collection system work?\n",
        "- Python's garbage collection uses reference counting to track object usage and deallocates memory when an object is no longer referenced. It also has a cyclic garbage collector to handle circular references, ensuring that even objects involved in cycles are eventually deallocated. This automatic process simplifies memory management for developers.\n",
        "\n",
        "- Python's garbage collection system primarily uses reference counting to manage memory.\n",
        "- When an object's reference count drops to zero, it's automatically deallocated.\n",
        "- The generational garbage collector is used to handle cyclic references, ensuring that objects involved in cycles are also eventually deallocated."
      ],
      "metadata": {
        "id": "RUY9xukBbJ0l"
      }
    },
    {
      "cell_type": "markdown",
      "source": [
        "16. What is the purpose of the else block in exception handling?\n",
        "- The else block in exception handling is used to define a section of code that will be executed only if no exceptions are raised within the preceding try block.\n",
        "\n",
        "- Purpose:\n",
        "\n",
        "Execute code when no exceptions occur: The primary purpose of the else block is to provide a place to put code that should run only when the code within the try block completes successfully without any exceptions. This helps separate the error-handling logic from the normal execution flow."
      ],
      "metadata": {
        "id": "5af7woQZbXpq"
      }
    },
    {
      "cell_type": "markdown",
      "source": [
        "17. What are the common logging levels in Python?\n",
        "- The logging module in Python provides several logging levels, which represent the severity of the log message. Here are the common logging levels in ascending order of severity:\n",
        "\n",
        "- DEBUG: Used for detailed debugging information, typically only of interest to developers.\n",
        "- INFO: Used for informational messages about the program's execution, such as the start and end of a process.\n",
        "- WARNING: Used for messages indicating potential issues or unexpected behavior that might need attention.\n",
        "- ERROR: Used for messages indicating errors that have occurred during the program's execution, but which might not be fatal.\n",
        "- CRITICAL: Used for messages indicating critical errors that might cause the program to terminate."
      ],
      "metadata": {
        "id": "uwsOIUi0begu"
      }
    },
    {
      "cell_type": "markdown",
      "source": [
        "18. What is the difference between os.fork() and multiprocessing in Python?\n",
        "- Both os.fork() and multiprocessing are used for creating new processes in Python, but they differ in their approach and use cases.\n",
        "\n",
        "- os.fork() creates a child process that is a near-duplicate of the parent on Unix-like systems, sharing memory initially.\n",
        "- Multiprocessing is cross-platform and creates processes with separate memory spaces, making it more suitable for parallel programming in Python due to its robustness and portability."
      ],
      "metadata": {
        "id": "viVsPxO2bn-t"
      }
    },
    {
      "cell_type": "markdown",
      "source": [
        "19. What is the importance of closing a file in Python?\n",
        "- Closing a file in Python is crucial for several reasons:\n",
        "\n",
        "- Releasing Resources: When you open a file, the operating system allocates resources to manage it. Closing the file releases these resources, making them available for other programs or operations. This helps prevent resource leaks and ensures that your system runs smoothly.\n",
        "\n",
        "- Data Integrity: If you write data to a file and don't close it properly, some of the data might not be written to disk. This can lead to data loss or corruption. Closing the file ensures that all the data is flushed to disk and saved permanently.\n",
        "\n",
        "- Preventing Errors: If you try to access a closed file, you'll get an error. Closing the file when you're finished with it helps prevent unexpected errors in your program.\n",
        "\n",
        "- Concurrency Issues: If multiple processes or threads are accessing the same file, closing it properly is essential to avoid conflicts and ensure data consistency.\n",
        "\n",
        "- File Locking: Some operating systems use file locking to prevent multiple processes from writing to the same file simultaneously. Closing the file releases the lock, allowing other processes to access it.\n",
        "\n",
        "- Good Practice: Closing files is simply good programming practice. It demonstrates that you're managing resources responsibly and writing clean, maintainable code.\n",
        "\n",
        "- In short\n",
        "- Closing a file in Python is important to release system resources, ensure data is saved completely, and prevent potential errors. It's good practice and helps maintain system stability. Using the with statement is the recommended way to ensure files are closed automatically."
      ],
      "metadata": {
        "id": "2fquNE96byZp"
      }
    },
    {
      "cell_type": "markdown",
      "source": [
        "20. What is the difference between file.read() and file.readline() in Python?\n",
        "- Both file.read() and file.readline() are methods used to read data from a file object in Python, but they differ in how much data they read:\n",
        "\n",
        "- file.read():\n",
        "\n",
        "- Reads the entire content of the file as a single string.\n",
        "- If you provide an optional size argument, it reads up to size bytes from the file.\n",
        "- If the end of the file is reached, it returns an empty string.\n",
        "\n",
        "- file.readline():\n",
        "\n",
        "- Reads a single line from the file, including the newline character (\\n) at the end.\n",
        "- If you provide an optional size argument, it reads up to size bytes from the current line.\n",
        "- If the end of the file is reached, it returns an empty string."
      ],
      "metadata": {
        "id": "cU-qCjlxb4-l"
      }
    },
    {
      "cell_type": "markdown",
      "source": [
        "21. What is the logging module in Python used for?\n",
        "- The logging module in Python is used for recording events or messages that happen while your Python program is running. It helps you track what's going on and troubleshoot issues. You can log messages with different levels of importance, like INFO, WARNING, or ERROR.\n",
        "\n",
        "- In short: Logging helps you keep track of your program's activities for debugging and monitoring."
      ],
      "metadata": {
        "id": "c5hxTpPYcGOy"
      }
    },
    {
      "cell_type": "markdown",
      "source": [
        "22. What is the os module in Python used for in file handling?\n",
        "- The os module in Python provides a way to interact with the operating system, including functionalities related to file handling, including tasks like:\n",
        "\n",
        "- Manipulating files and directories (renaming, deleting, creating).\n",
        "- Working with file paths (checking existence, joining paths).\n",
        "- Managing file permissions and ownership."
      ],
      "metadata": {
        "id": "PDaAOce5cPs6"
      }
    },
    {
      "cell_type": "markdown",
      "source": [
        "23.  What are the challenges associated with memory management in Python?\n",
        "- While Python's automatic garbage collection system simplifies memory management for developers, there are still some challenges to be aware of:\n",
        "\n",
        "- Overhead and unpredictable timing of garbage collection.\n",
        "- Potential for memory leaks due to circular references.\n",
        "- Memory fragmentation and difficulties managing external resources.\n",
        "- Increased complexity when dealing with large datasets and concurrency.\n"
      ],
      "metadata": {
        "id": "6FlfjjchcVOD"
      }
    },
    {
      "cell_type": "markdown",
      "source": [
        "24. How do you raise an exception manually in Python?\n",
        "- To manually raise an exception in Python, you can use the raise statement.\n",
        "\n",
        "- Syntax:\n",
        "raise exception_class(optional_message)\n",
        "\n",
        "- exception_class: The type of exception you want to raise (e.g., ValueError, TypeError, RuntimeError).\n",
        "- optional_message: An optional message to provide more information about the exception"
      ],
      "metadata": {
        "id": "rV7r7B-BcZhP"
      }
    },
    {
      "cell_type": "markdown",
      "source": [
        "25. Why is it important to use multithreading in certain applications?\n",
        "- Multithreading is a technique that allows a program to execute multiple threads concurrently within a single process. This can be beneficial for certain types of applications for the following reasons:\n",
        "\n",
        "- Improve responsiveness by allowing tasks to run concurrently.\n",
        "- Enhance performance, especially for I/O-bound operations or on multi-core systems.\n",
        "- Share resources efficiently within a single process.\n",
        "- Simplify program structure for inherently concurrent tasks.\n"
      ],
      "metadata": {
        "id": "sGYcm58ndMFi"
      }
    },
    {
      "cell_type": "markdown",
      "source": [
        "Practical Questions"
      ],
      "metadata": {
        "id": "ap_VPEP7dRCM"
      }
    },
    {
      "cell_type": "markdown",
      "source": [
        "1. How can you open a file for writing in Python and write a string to it?"
      ],
      "metadata": {
        "id": "_jd06jfNdUxQ"
      }
    },
    {
      "source": [
        "file = open(\"my_file.txt\", \"w\")\n",
        "file.write(\"This is the string I want to write.\\n\")\n",
        "file.close()"
      ],
      "cell_type": "code",
      "metadata": {
        "id": "nZ29QbIQjF0k"
      },
      "execution_count": null,
      "outputs": []
    },
    {
      "cell_type": "markdown",
      "source": [
        "2. Write a Python program to read the contents of a file and print each line."
      ],
      "metadata": {
        "id": "WgBeEQ02dbMd"
      }
    },
    {
      "source": [
        "def read_and_print_file(file_path):\n",
        "    \"\"\"Reads a file and prints each line to the console.\n",
        "\n",
        "    Args:\n",
        "        file_path: The path to the file.\n",
        "    \"\"\"\n",
        "    try:\n",
        "        with open(file_path, 'r') as file:\n",
        "            for line in file:\n",
        "                print(line, end='')  # Print the line without adding an extra newline\n",
        "    except FileNotFoundError:\n",
        "        print(f\"File not found: {file_path}\")\n",
        "    except Exception as e:\n",
        "        print(f\"An error occurred: {e}\")\n",
        "\n",
        "# Example usage:\n",
        "file_path = \"my_file.txt\"\n",
        "read_and_print_file(file_path)"
      ],
      "cell_type": "code",
      "metadata": {
        "colab": {
          "base_uri": "https://localhost:8080/"
        },
        "id": "TQL7iIRXkCgP",
        "outputId": "a20b8b4f-3911-4944-ea2e-be246ea03d85"
      },
      "execution_count": null,
      "outputs": [
        {
          "output_type": "stream",
          "name": "stdout",
          "text": [
            "File not found: my_file.txt\n"
          ]
        }
      ]
    },
    {
      "cell_type": "markdown",
      "source": [
        "3.  How would you handle a case where the file doesn't exist while trying to open it for reading?"
      ],
      "metadata": {
        "id": "Qp1wc0LK329Z"
      }
    },
    {
      "source": [
        "#Using os.path.exists()\n",
        "\n",
        "import os\n",
        "\n",
        "if os.path.exists(\"my_file.txt\"):\n",
        "    with open(\"my_file.txt\", \"r\") as file:\n",
        "        # Perform operations with the file here, e.g., read and print its contents\n",
        "        contents = file.read()\n",
        "        print(contents)\n",
        "else:\n",
        "    print(\"The file does not exist.\")"
      ],
      "cell_type": "code",
      "metadata": {
        "colab": {
          "base_uri": "https://localhost:8080/"
        },
        "id": "lmiO2uembWYA",
        "outputId": "64c4260c-bf90-4b58-9914-e65d8b24b35f"
      },
      "execution_count": null,
      "outputs": [
        {
          "output_type": "stream",
          "name": "stdout",
          "text": [
            "This is the string I want to write.\n",
            "\n"
          ]
        }
      ]
    },
    {
      "source": [
        "#Using try-except blocks\n",
        "\n",
        "try:\n",
        "    file = open(\"my_file.txt\", \"r\")\n",
        "    # Perform operations with the file here, e.g., read and print its contents\n",
        "    contents = file.read()\n",
        "    print(contents)\n",
        "    file.close()  # Important: Close the file in the 'try' block\n",
        "except FileNotFoundError:\n",
        "    print(\"The file does not exist.\")\n",
        "except Exception as e:\n",
        "    print(f\"An error occurred: {e}\")"
      ],
      "cell_type": "code",
      "metadata": {
        "colab": {
          "base_uri": "https://localhost:8080/"
        },
        "id": "R8Mfuj9DcCd3",
        "outputId": "a8506f63-4605-4b03-c51c-8af870cd261c"
      },
      "execution_count": null,
      "outputs": [
        {
          "output_type": "stream",
          "name": "stdout",
          "text": [
            "This is the string I want to write.\n",
            "\n"
          ]
        }
      ]
    },
    {
      "cell_type": "markdown",
      "source": [
        "4. Write a Python script that reads from one file and writes its content to another file."
      ],
      "metadata": {
        "id": "2YM4nPUv4Fx7"
      }
    },
    {
      "source": [
        "def copy_file_content(source_file, destination_file):\n",
        "    \"\"\"Copies the content of one file to another.\n",
        "\n",
        "    Args:\n",
        "        source_file: The path to the source file.\n",
        "        destination_file: The path to the destination file.\n",
        "    \"\"\"\n",
        "    try:\n",
        "        with open(source_file, 'r') as source, open(destination_file, 'w') as destination:\n",
        "            for line in source:\n",
        "                destination.write(line)\n",
        "        print(f\"Content copied from '{source_file}' to '{destination_file}' successfully.\")\n",
        "    except FileNotFoundError:\n",
        "        print(f\"Error: Source file '{source_file}' not found.\")\n",
        "    except Exception as e:\n",
        "        print(f\"An error occurred: {e}\")\n",
        "\n",
        "# Example usage\n",
        "source_file = \"source.txt\"\n",
        "destination_file = \"destination.txt\"\n",
        "copy_file_content(source_file, destination_file)"
      ],
      "cell_type": "code",
      "metadata": {
        "colab": {
          "base_uri": "https://localhost:8080/"
        },
        "id": "EAWScWILcoer",
        "outputId": "1feecb46-aeea-4a5c-d1e3-762a06eebd33"
      },
      "execution_count": null,
      "outputs": [
        {
          "output_type": "stream",
          "name": "stdout",
          "text": [
            "Error: Source file 'source.txt' not found.\n"
          ]
        }
      ]
    },
    {
      "cell_type": "markdown",
      "source": [
        "5. How would you catch and handle division by zero error in Python?"
      ],
      "metadata": {
        "id": "a_-qy4xf4Sei"
      }
    },
    {
      "source": [
        "numerator = 10\n",
        "denominator = 0\n",
        "\n",
        "try:\n",
        "    result = numerator / denominator\n",
        "except ZeroDivisionError:\n",
        "    print(\"Error: Division by zero!\")\n",
        "    result = float('inf')  # Set result to infinity\n",
        "\n",
        "print(result)  # Output: inf"
      ],
      "cell_type": "code",
      "metadata": {
        "colab": {
          "base_uri": "https://localhost:8080/"
        },
        "id": "jkAh5oR1dNHK",
        "outputId": "b6fde0c9-92dc-4f9c-96de-e0c19b0f70b9"
      },
      "execution_count": null,
      "outputs": [
        {
          "output_type": "stream",
          "name": "stdout",
          "text": [
            "Error: Division by zero!\n",
            "inf\n"
          ]
        }
      ]
    },
    {
      "cell_type": "markdown",
      "source": [
        "6. Write a Python program that logs an error message to a log file when a division by zero exception occurs."
      ],
      "metadata": {
        "id": "i1W3IXEc4apG"
      }
    },
    {
      "source": [
        "import logging\n",
        "\n",
        "# Configure logging\n",
        "logging.basicConfig(filename='error.log', level=logging.ERROR,\n",
        "                    format='%(asctime)s - %(levelname)s - %(message)s')\n",
        "\n",
        "def divide(x, y):\n",
        "    try:\n",
        "        result = x / y\n",
        "        return result\n",
        "    except ZeroDivisionError:\n",
        "        logging.error(\"Division by zero attempted!\")\n",
        "        return None  # Or raise an exception if you prefer\n",
        "\n",
        "# Example usage\n",
        "numerator = 10\n",
        "denominator = 0\n",
        "result = divide(numerator, denominator)\n",
        "\n",
        "if result is None:\n",
        "    print(\"Error: Division by zero. See error.log for details.\")\n",
        "else:\n",
        "    print(f\"Result: {result}\")"
      ],
      "cell_type": "code",
      "metadata": {
        "colab": {
          "base_uri": "https://localhost:8080/"
        },
        "id": "w9eXXVO6dhMp",
        "outputId": "f3cf3352-d6f6-4f2e-848d-9144ebb12e41"
      },
      "execution_count": null,
      "outputs": [
        {
          "output_type": "stream",
          "name": "stderr",
          "text": [
            "ERROR:root:Division by zero attempted!\n"
          ]
        },
        {
          "output_type": "stream",
          "name": "stdout",
          "text": [
            "Error: Division by zero. See error.log for details.\n"
          ]
        }
      ]
    },
    {
      "cell_type": "markdown",
      "source": [
        "7. How do you log information at different levels (INFO, ERROR, WARNING) in Python using the logging module?"
      ],
      "metadata": {
        "id": "dpUucs3G4uVy"
      }
    },
    {
      "source": [
        "import logging\n",
        "\n",
        "# Configure logging (optional, but recommended)\n",
        "logging.basicConfig(filename='my_log.log', level=logging.DEBUG,\n",
        "                    format='%(asctime)s - %(levelname)s - %(message)s')\n",
        "\n",
        "# Log messages at different levels\n",
        "logging.debug('This is a debug message')\n",
        "logging.info('This is an informational message')\n",
        "logging.warning('This is a warning message')\n",
        "logging.error('This is an error message')\n",
        "logging.critical('This is a critical message')"
      ],
      "cell_type": "code",
      "metadata": {
        "colab": {
          "base_uri": "https://localhost:8080/"
        },
        "id": "tM-fXwqvd219",
        "outputId": "835a870a-3027-487c-dd1d-12f7796e03e9"
      },
      "execution_count": null,
      "outputs": [
        {
          "output_type": "stream",
          "name": "stderr",
          "text": [
            "WARNING:root:This is a warning message\n",
            "ERROR:root:This is an error message\n",
            "CRITICAL:root:This is a critical message\n"
          ]
        }
      ]
    },
    {
      "cell_type": "markdown",
      "source": [
        "8. Write a program to handle a file opening error using exception handling."
      ],
      "metadata": {
        "id": "-NPfMY9beCca"
      }
    },
    {
      "source": [
        "def read_file(file_path):\n",
        "    try:\n",
        "        with open(file_path, 'r') as file:\n",
        "            contents = file.read()\n",
        "            print(contents)\n",
        "    except FileNotFoundError:\n",
        "        print(f\"Error: File '{file_path}' not found.\")\n",
        "    except IOError:\n",
        "        print(f\"Error: Could not open or read file '{file_path}'.\")\n",
        "    except Exception as e:\n",
        "        print(f\"An unexpected error occurred: {e}\")\n",
        "\n",
        "# Example usage\n",
        "file_path = \"my_file.txt\"\n",
        "read_file(file_path)"
      ],
      "cell_type": "code",
      "metadata": {
        "colab": {
          "base_uri": "https://localhost:8080/"
        },
        "id": "GjadbWOMeHTY",
        "outputId": "afe8cc07-b7d3-40bf-e4ce-5e7bbf2dd583"
      },
      "execution_count": null,
      "outputs": [
        {
          "output_type": "stream",
          "name": "stdout",
          "text": [
            "This is the string I want to write.\n",
            "\n"
          ]
        }
      ]
    },
    {
      "cell_type": "markdown",
      "source": [
        "9. How can you read a file line by line and store its content in a list in Python?"
      ],
      "metadata": {
        "id": "0E61yLKxeRbK"
      }
    },
    {
      "source": [
        "def read_file_to_list(file_path):\n",
        "    \"\"\"Reads a file and stores its lines in a list.\n",
        "\n",
        "    Args:\n",
        "        file_path: The path to the file.\n",
        "\n",
        "    Returns:\n",
        "        A list containing each line of the file.\n",
        "    \"\"\"\n",
        "    try:\n",
        "        with open(file_path, 'r') as file:\n",
        "            lines = file.readlines()  # Read all lines into a list\n",
        "        return lines\n",
        "    except FileNotFoundError:\n",
        "        print(f\"Error: File '{file_path}' not found.\")\n",
        "        return []  # Return an empty list if file not found\n",
        "    except Exception as e:\n",
        "        print(f\"An unexpected error occurred: {e}\")\n",
        "        return []\n",
        "\n",
        "# Example usage:\n",
        "file_path = \"my_file.txt\"\n",
        "file_content = read_file_to_list(file_path)\n",
        "\n",
        "#To see the output, run the code.\n",
        "#print(file_content)  # Output: ['line1\\n', 'line2\\n', 'line3']"
      ],
      "cell_type": "code",
      "metadata": {
        "id": "cVWoxxN9fVFu",
        "colab": {
          "base_uri": "https://localhost:8080/"
        },
        "outputId": "2b9682b7-81c8-4cb0-99a5-a54d8ba7966b"
      },
      "execution_count": null,
      "outputs": [
        {
          "output_type": "stream",
          "name": "stdout",
          "text": [
            "Error: File 'my_file.txt' not found.\n"
          ]
        }
      ]
    },
    {
      "cell_type": "markdown",
      "source": [
        "10. How can you append data to an existing file in Python?"
      ],
      "metadata": {
        "id": "70JbKKvSedKi"
      }
    },
    {
      "source": [
        "file = open(\"my_file.txt\", \"a\")\n",
        "file.write(\"This is the data to append.\\n\")\n",
        "file.close()"
      ],
      "cell_type": "code",
      "metadata": {
        "id": "y43Qb4v7qHwb"
      },
      "execution_count": null,
      "outputs": []
    },
    {
      "cell_type": "markdown",
      "source": [
        "11. Write a Python program that uses a try-except block to handle an error when attempting to access a dictionary key that doesn't exist."
      ],
      "metadata": {
        "id": "tww1mNiCekh4"
      }
    },
    {
      "source": [
        "my_dict = {\"apple\": 1, \"banana\": 2, \"orange\": 3}\n",
        "\n",
        "try:\n",
        "    value = my_dict[\"grape\"]  # Attempt to access a non-existent key\n",
        "    print(f\"The value for 'grape' is: {value}\")\n",
        "except KeyError:\n",
        "    print(\"Error: The key 'grape' does not exist in the dictionary.\")"
      ],
      "cell_type": "code",
      "metadata": {
        "colab": {
          "base_uri": "https://localhost:8080/"
        },
        "id": "9V5XuJLPqSsj",
        "outputId": "dee7d028-ceb8-495d-c18a-9a3998e58e1a"
      },
      "execution_count": null,
      "outputs": [
        {
          "output_type": "stream",
          "name": "stdout",
          "text": [
            "Error: The key 'grape' does not exist in the dictionary.\n"
          ]
        }
      ]
    },
    {
      "cell_type": "markdown",
      "source": [
        "12.  Write a program that demonstrates using multiple except blocks to handle different types of exceptions."
      ],
      "metadata": {
        "id": "n5xh51dHev_R"
      }
    },
    {
      "source": [
        "def divide_and_access_element(x, y, index):\n",
        "    try:\n",
        "        result = x / y\n",
        "        element = my_list[index]\n",
        "        print(f\"Result: {result}, Element: {element}\")\n",
        "    except ZeroDivisionError:\n",
        "        print(\"Error: Division by zero!\")\n",
        "    except IndexError:\n",
        "        print(\"Error: Index out of range!\")\n",
        "    except TypeError:\n",
        "        print(\"Error: Invalid data type!\")\n",
        "    except Exception as e:\n",
        "        print(f\"An unexpected error occurred: {e}\")\n",
        "\n",
        "my_list = [1, 2, 3]\n",
        "\n",
        "# Example usage\n",
        "divide_and_access_element(10, 0, 2)  # Division by zero error\n",
        "divide_and_access_element(10, 2, 3)  # Index out of range error\n",
        "divide_and_access_element(10, 2, \"a\") # Type error\n",
        "divide_and_access_element(10, 2, 1) # Successful execution"
      ],
      "cell_type": "code",
      "metadata": {
        "colab": {
          "base_uri": "https://localhost:8080/"
        },
        "id": "DZAStL2YqdUf",
        "outputId": "f914889f-ac4f-4c43-f724-9eaabbeb2dde"
      },
      "execution_count": null,
      "outputs": [
        {
          "output_type": "stream",
          "name": "stdout",
          "text": [
            "Error: Division by zero!\n",
            "Error: Index out of range!\n",
            "Error: Invalid data type!\n",
            "Result: 5.0, Element: 2\n"
          ]
        }
      ]
    },
    {
      "cell_type": "markdown",
      "source": [
        "13.  How would you check if a file exists before attempting to read it in Python?"
      ],
      "metadata": {
        "id": "TPlNJ2Fse3LI"
      }
    },
    {
      "source": [
        "import os\n",
        "\n",
        "file_path = \"my_file.txt\"\n",
        "\n",
        "if os.path.exists(file_path):\n",
        "    with open(file_path, \"r\") as file:\n",
        "        # Perform operations with the file here, e.g., read and print its contents\n",
        "        contents = file.read()\n",
        "        print(contents)\n",
        "else:\n",
        "    print(\"The file does not exist.\")"
      ],
      "cell_type": "code",
      "metadata": {
        "colab": {
          "base_uri": "https://localhost:8080/"
        },
        "id": "7kFrcpo1q9bU",
        "outputId": "2968a4e5-d1c8-4cb5-ae5f-270f323529e1"
      },
      "execution_count": null,
      "outputs": [
        {
          "output_type": "stream",
          "name": "stdout",
          "text": [
            "This is the data to append.\n",
            "\n"
          ]
        }
      ]
    },
    {
      "cell_type": "markdown",
      "source": [
        "14. Write a program that uses the logging module to log both informational and error messages."
      ],
      "metadata": {
        "id": "gwt59P7we_g9"
      }
    },
    {
      "source": [
        "import logging\n",
        "\n",
        "# Configure logging\n",
        "logging.basicConfig(filename='my_log.log', level=logging.DEBUG,\n",
        "                    format='%(asctime)s - %(levelname)s - %(message)s')\n",
        "\n",
        "# Log informational messages\n",
        "logging.info('Program started')\n",
        "logging.info('Processing data...')\n",
        "\n",
        "try:\n",
        "    # Some code that might raise an exception\n",
        "    result = 10 / 0  # Division by zero\n",
        "except ZeroDivisionError:\n",
        "    # Log the error\n",
        "    logging.error('Division by zero error occurred', exc_info=True)\n",
        "\n",
        "# Log more informational messages\n",
        "logging.info('Data processed successfully')\n",
        "logging.info('Program finished')"
      ],
      "cell_type": "code",
      "metadata": {
        "colab": {
          "base_uri": "https://localhost:8080/"
        },
        "id": "WeuvFg8JrS6o",
        "outputId": "d7a02922-336c-48df-e4c6-c1993964b0b1"
      },
      "execution_count": null,
      "outputs": [
        {
          "output_type": "stream",
          "name": "stderr",
          "text": [
            "ERROR:root:Division by zero error occurred\n",
            "Traceback (most recent call last):\n",
            "  File \"<ipython-input-6-d1301aa21a7e>\", line 13, in <cell line: 0>\n",
            "    result = 10 / 0  # Division by zero\n",
            "             ~~~^~~\n",
            "ZeroDivisionError: division by zero\n"
          ]
        }
      ]
    },
    {
      "cell_type": "markdown",
      "source": [
        "15.  Write a Python program that prints the content of a file and handles the case when the file is empty."
      ],
      "metadata": {
        "id": "t_p6mQW8fSC4"
      }
    },
    {
      "source": [
        "def print_file_content(file_path):\n",
        "    \"\"\"Prints the content of a file, handling the case when it's empty.\n",
        "\n",
        "    Args:\n",
        "        file_path: The path to the file.\n",
        "    \"\"\"\n",
        "    try:\n",
        "        with open(file_path, 'r') as file:\n",
        "            content = file.read()\n",
        "            if content:  # Check if the content is not empty\n",
        "                print(content)\n",
        "            else:\n",
        "                print(f\"The file '{file_path}' is empty.\")\n",
        "    except FileNotFoundError:\n",
        "        print(f\"Error: File '{file_path}' not found.\")\n",
        "    except Exception as e:\n",
        "        print(f\"An unexpected error occurred: {e}\")\n",
        "\n",
        "# Example usage:\n",
        "file_path = \"my_file.txt\"\n",
        "print_file_content(file_path)"
      ],
      "cell_type": "code",
      "metadata": {
        "colab": {
          "base_uri": "https://localhost:8080/"
        },
        "id": "JF7dj4yFrlAi",
        "outputId": "400c7b75-60ca-4a35-a101-6bb4962b786f"
      },
      "execution_count": null,
      "outputs": [
        {
          "output_type": "stream",
          "name": "stdout",
          "text": [
            "This is the data to append.\n",
            "\n"
          ]
        }
      ]
    },
    {
      "cell_type": "markdown",
      "source": [
        "16.  Demonstrate how to use memory profiling to check the memory usage of a small program."
      ],
      "metadata": {
        "id": "Mq6O5W6Pfc9h"
      }
    },
    {
      "source": [
        "!pip install memory_profiler==0.61.0\n",
        "import memory_profiler\n",
        "\n",
        "@memory_profiler.profile\n",
        "def my_function():\n",
        "    a = [1] * (10 ** 6)\n",
        "    b = [2] * (2 * 10 ** 7)\n",
        "    del b\n",
        "    return a\n",
        "\n",
        "my_function()"
      ],
      "cell_type": "code",
      "metadata": {
        "id": "HNEqeY7nvADV"
      },
      "execution_count": null,
      "outputs": []
    },
    {
      "cell_type": "markdown",
      "source": [
        "17. Write a Python program to create and write a list of numbers to a file, one number per line."
      ],
      "metadata": {
        "id": "RdRogcX6fjEb"
      }
    },
    {
      "source": [
        "def write_numbers_to_file(numbers, file_path):\n",
        "    \"\"\"Writes a list of numbers to a file, one number per line.\n",
        "\n",
        "    Args:\n",
        "        numbers: The list of numbers to write.\n",
        "        file_path: The path to the file.\n",
        "    \"\"\"\n",
        "    try:\n",
        "        with open(file_path, 'w') as file:\n",
        "            for number in numbers:\n",
        "                file.write(str(number) + '\\n')\n",
        "        print(f\"Numbers written to '{file_path}' successfully.\")\n",
        "    except Exception as e:\n",
        "        print(f\"An error occurred: {e}\")\n",
        "\n",
        "# Example usage:\n",
        "numbers = [1, 2, 3, 4, 5]\n",
        "file_path = \"numbers.txt\"\n",
        "write_numbers_to_file(numbers, file_path)"
      ],
      "cell_type": "code",
      "metadata": {
        "colab": {
          "base_uri": "https://localhost:8080/"
        },
        "id": "KCrReveEvR8Z",
        "outputId": "694e13ca-19fa-461f-d84a-93948164d26f"
      },
      "execution_count": null,
      "outputs": [
        {
          "output_type": "stream",
          "name": "stdout",
          "text": [
            "Numbers written to 'numbers.txt' successfully.\n"
          ]
        }
      ]
    },
    {
      "cell_type": "markdown",
      "source": [
        "18. How would you implement a basic logging setup that logs to a file with rotation after 1MB?"
      ],
      "metadata": {
        "id": "1NDZBMFYf95G"
      }
    },
    {
      "source": [
        "import logging\n",
        "from logging.handlers import RotatingFileHandler\n",
        "\n",
        "# Create a logger\n",
        "logger = logging.getLogger('my_logger')\n",
        "logger.setLevel(logging.DEBUG)  # Set minimum logging level\n",
        "\n",
        "# Create a rotating file handler\n",
        "handler = RotatingFileHandler('my_log.log', maxBytes=1024 * 1024, backupCount=5)\n",
        "# maxBytes: Maximum file size before rotation (1MB in this case)\n",
        "# backupCount: Number of backup files to keep (5 in this case)\n",
        "\n",
        "# Create a formatter and set it for the handler\n",
        "formatter = logging.Formatter('%(asctime)s - %(levelname)s - %(message)s')\n",
        "handler.setFormatter(formatter)\n",
        "\n",
        "# Add the handler to the logger\n",
        "logger.addHandler(handler)\n",
        "\n",
        "# Now you can use the logger to log messages\n",
        "logger.debug('This is a debug message')\n",
        "logger.info('This is an informational message')\n",
        "logger.warning('This is a warning message')\n",
        "logger.error('This is an error message')\n",
        "logger.critical('This is a critical message')"
      ],
      "cell_type": "code",
      "metadata": {
        "colab": {
          "base_uri": "https://localhost:8080/"
        },
        "id": "uAyqxPpavjJM",
        "outputId": "efa91ae1-0584-4dc5-fb66-dad2b126ecc3"
      },
      "execution_count": null,
      "outputs": [
        {
          "output_type": "stream",
          "name": "stderr",
          "text": [
            "DEBUG:my_logger:This is a debug message\n",
            "INFO:my_logger:This is an informational message\n",
            "WARNING:my_logger:This is a warning message\n",
            "ERROR:my_logger:This is an error message\n",
            "CRITICAL:my_logger:This is a critical message\n"
          ]
        }
      ]
    },
    {
      "cell_type": "markdown",
      "source": [
        "19. Write a program that handles both IndexError and KeyError using a try-except block."
      ],
      "metadata": {
        "id": "FMR29aEQgQys"
      }
    },
    {
      "source": [
        "def access_data(data_list, data_dict, index, key):\n",
        "    try:\n",
        "        list_value = data_list[index]\n",
        "        dict_value = data_dict[key]\n",
        "        print(f\"List value: {list_value}, Dictionary value: {dict_value}\")\n",
        "    except IndexError:\n",
        "        print(\"Error: Index out of range for the list.\")\n",
        "    except KeyError:\n",
        "        print(\"Error: Key not found in the dictionary.\")\n",
        "    except Exception as e:  # Catch other potential exceptions\n",
        "        print(f\"An unexpected error occurred: {e}\")\n",
        "\n",
        "# Example usage:\n",
        "my_list = [1, 2, 3]\n",
        "my_dict = {\"a\": 10, \"b\": 20}\n",
        "\n",
        "access_data(my_list, my_dict, 5, \"b\")  # IndexError\n",
        "access_data(my_list, my_dict, 1, \"c\")  # KeyError\n",
        "access_data(my_list, my_dict, 1, \"b\")  # Successful access"
      ],
      "cell_type": "code",
      "metadata": {
        "colab": {
          "base_uri": "https://localhost:8080/"
        },
        "id": "car9UIMLvyaD",
        "outputId": "265beb33-b95a-4406-8748-b887418b62d5"
      },
      "execution_count": null,
      "outputs": [
        {
          "output_type": "stream",
          "name": "stdout",
          "text": [
            "Error: Index out of range for the list.\n",
            "Error: Key not found in the dictionary.\n",
            "List value: 2, Dictionary value: 20\n"
          ]
        }
      ]
    },
    {
      "cell_type": "markdown",
      "source": [
        "20.  How would you open a file and read its contents using a context manager in Python?"
      ],
      "metadata": {
        "id": "tmSF6SsEgbkx"
      }
    },
    {
      "source": [
        "with open(\"my_file.txt\", \"r\") as file:\n",
        "    contents = file.read()\n",
        "    print(contents)  # Print the file contents"
      ],
      "cell_type": "code",
      "metadata": {
        "colab": {
          "base_uri": "https://localhost:8080/"
        },
        "id": "CQrHF55EwGJ8",
        "outputId": "c38742ad-c0c7-43f2-8f1d-8e0d24670421"
      },
      "execution_count": null,
      "outputs": [
        {
          "output_type": "stream",
          "name": "stdout",
          "text": [
            "This is the data to append.\n",
            "\n"
          ]
        }
      ]
    },
    {
      "cell_type": "markdown",
      "source": [
        "21.  Write a Python program that reads a file and prints the number of occurrences of a specific word."
      ],
      "metadata": {
        "id": "sxKBlVZTgu0h"
      }
    },
    {
      "source": [
        "def count_word_occurrences(file_path, target_word):\n",
        "    \"\"\"Counts the occurrences of a specific word in a file.\n",
        "\n",
        "    Args:\n",
        "        file_path: The path to the file.\n",
        "        target_word: The word to count occurrences of.\n",
        "\n",
        "    Returns:\n",
        "        The number of occurrences of the target word in the file.\n",
        "    \"\"\"\n",
        "    count = 0\n",
        "    try:\n",
        "        with open(file_path, 'r') as file:\n",
        "            for line in file:\n",
        "                words = line.lower().split()  # Convert to lowercase and split into words\n",
        "                count += words.count(target_word.lower())  # Count occurrences in the line\n",
        "    except FileNotFoundError:\n",
        "        print(f\"Error: File '{file_path}' not found.\")\n",
        "    except Exception as e:\n",
        "        print(f\"An unexpected error occurred: {e}\")\n",
        "    return count\n",
        "\n",
        "# Example usage:\n",
        "file_path = \"my_file.txt\"\n",
        "target_word = \"example\"\n",
        "occurrences = count_word_occurrences(file_path, target_word)\n",
        "print(f\"The word '{target_word}' appears {occurrences} times in the file.\")"
      ],
      "cell_type": "code",
      "metadata": {
        "colab": {
          "base_uri": "https://localhost:8080/"
        },
        "id": "FrjAdR2swZou",
        "outputId": "0764bafa-c6be-4dd3-d9d4-df1c6bf73ed3"
      },
      "execution_count": null,
      "outputs": [
        {
          "output_type": "stream",
          "name": "stdout",
          "text": [
            "The word 'example' appears 0 times in the file.\n"
          ]
        }
      ]
    },
    {
      "cell_type": "markdown",
      "source": [
        "22. How can you check if a file is empty before attempting to read its contents?"
      ],
      "metadata": {
        "id": "MVRQ9byig74n"
      }
    },
    {
      "source": [
        "import os\n",
        "\n",
        "file_path = \"my_file.txt\"\n",
        "\n",
        "if os.stat(file_path).st_size == 0:\n",
        "    print(f\"The file '{file_path}' is empty.\")\n",
        "else:\n",
        "    # Proceed with reading the file contents\n",
        "    with open(file_path, \"r\") as file:\n",
        "        contents = file.read()\n",
        "\n",
        "        # Process the contents\n",
        "\n",
        "        print(\"File contents:\")\n",
        "        print(contents)"
      ],
      "cell_type": "code",
      "metadata": {
        "colab": {
          "base_uri": "https://localhost:8080/"
        },
        "id": "pqMADs80wwPe",
        "outputId": "36461899-cd30-4575-c7b7-7a4e6a486681"
      },
      "execution_count": null,
      "outputs": [
        {
          "output_type": "stream",
          "name": "stdout",
          "text": [
            "File contents:\n",
            "This is the data to append.\n",
            "\n"
          ]
        }
      ]
    },
    {
      "cell_type": "markdown",
      "source": [
        "23.  Write a Python program that writes to a log file when an error occurs during file handling."
      ],
      "metadata": {
        "id": "h8ifcKnwhSpR"
      }
    },
    {
      "source": [
        "import logging\n",
        "\n",
        "# Configure logging\n",
        "logging.basicConfig(filename='file_handling_errors.log', level=logging.ERROR,\n",
        "                    format='%(asctime)s - %(levelname)s - %(message)s')\n",
        "\n",
        "def process_file(file_path):\n",
        "    try:\n",
        "        with open(file_path, 'r') as file:\n",
        "            # Perform file operations here\n",
        "            contents = file.read()\n",
        "            # ... process contents ...\n",
        "    except FileNotFoundError:\n",
        "        logging.error(f\"File not found: {file_path}\")\n",
        "    except Exception as e:\n",
        "        logging.exception(f\"An error occurred while processing the file: {file_path}\")\n",
        "\n",
        "# Example usage\n",
        "file_path = 'my_file.txt'\n",
        "process_file(file_path)\n",
        "print_file_content(file_path)"
      ],
      "cell_type": "code",
      "metadata": {
        "colab": {
          "base_uri": "https://localhost:8080/"
        },
        "id": "x7m_T6gLxcbn",
        "outputId": "4f4f70df-c830-4ea6-b304-e49ebc677a65"
      },
      "execution_count": null,
      "outputs": [
        {
          "output_type": "stream",
          "name": "stdout",
          "text": [
            "This is the data to append.\n",
            "\n"
          ]
        }
      ]
    },
    {
      "cell_type": "markdown",
      "source": [],
      "metadata": {
        "id": "ZSsQwLu_hZC2"
      }
    }
  ]
}